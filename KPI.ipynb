{
 "cells": [
  {
   "cell_type": "markdown",
   "metadata": {},
   "source": [
    "## KPI"
   ]
  },
  {
   "cell_type": "markdown",
   "metadata": {},
   "source": [
    "Recuperation du dossier json"
   ]
  },
  {
   "cell_type": "code",
   "execution_count": 1,
   "metadata": {},
   "outputs": [
    {
     "name": "stdout",
     "output_type": "stream",
     "text": [
      "Documents\n",
      "pré projet\n"
     ]
    }
   ],
   "source": [
    "import json\n",
    "\n",
    "# Chemin vers le fichier JSON\n",
    "chemin_fichier = \"proj831_data.json\"\n",
    "\n",
    "# Ouvrir le fichier en mode lecture\n",
    "with open(chemin_fichier, \"r\") as fichier:\n",
    "    # Charger le contenu JSON\n",
    "    contenu_json = json.load(fichier)\n",
    "\n",
    "# Utiliser le contenu JSON comme un dictionnaire Python\n",
    "n=0\n",
    "\n",
    "for k in range(0,5):\n",
    "    for activiy in contenu_json[0][0]['activities']:\n",
    "        \n",
    "        for task in activiy['tasks']:\n",
    "            t=1\n",
    "print(contenu_json[0][0]['activities'][0]['tasks'][8]['environmental_resources'][0]['description'])\n",
    "print(contenu_json[0][0]['activities'][0]['activity'])\n",
    "    "
   ]
  },
  {
   "cell_type": "markdown",
   "metadata": {},
   "source": [
    "récuperer tout les actor avec leur nombre de tache "
   ]
  },
  {
   "cell_type": "code",
   "execution_count": 3,
   "metadata": {},
   "outputs": [
    {
     "name": "stdout",
     "output_type": "stream",
     "text": [
      "{'David CORGIER': 166, 'Simon Chauvel': 5, 'Florian SIMON': 2}\n"
     ]
    }
   ],
   "source": [
    "\n",
    "\n",
    "def actor_nbr_tasks(json):\n",
    "    actor = {}\n",
    "    for k in range(0, 5):\n",
    "        for activity in json[k][0]['activities']:\n",
    "            for task in activity['tasks']:\n",
    "                for actor_name in task['actors']:\n",
    "                    if actor_name not in actor:\n",
    "                        actor[actor_name] = 1\n",
    "                    else:\n",
    "                        actor[actor_name] += 1\n",
    "                    \n",
    "    return actor\n",
    "\n",
    "actor_dict = actor_nbr_tasks(contenu_json)\n",
    "print(actor_dict)\n",
    "\n",
    "\n",
    "    "
   ]
  },
  {
   "cell_type": "code",
   "execution_count": null,
   "metadata": {},
   "outputs": [
    {
     "name": "stdout",
     "output_type": "stream",
     "text": [
      "{'David CORGIER': 5, 'Simon Chauvel': 2, 'Florian SIMON': 0}\n"
     ]
    }
   ],
   "source": [
    "def actor_valide_tasks(json):\n",
    "    actor = {}\n",
    "    for k in range(0, 5):\n",
    "        for activity in json[k][0]['activities']:\n",
    "            for task in activity['tasks']:\n",
    "                \n",
    "                if task['validated'] == True:\n",
    "                    for actor_name in task['actors']:\n",
    "                        if actor_name not in actor:\n",
    "                            actor[actor_name] = 1\n",
    "                        else:\n",
    "                            actor[actor_name] += 1\n",
    "                else:\n",
    "                    for actor_name in task['actors']:\n",
    "                        if actor_name not in actor:\n",
    "                            actor[actor_name] = 0\n",
    "                        \n",
    "    return actor\n",
    "actor_dict_valide = actor_valide_tasks(contenu_json)\n",
    "print(actor_dict_valide)"
   ]
  },
  {
   "cell_type": "code",
   "execution_count": null,
   "metadata": {},
   "outputs": [],
   "source": [
    "for actor in actor_dict_valide:\n",
    "    print(actor, actor_dict_valide[actor])"
   ]
  },
  {
   "cell_type": "code",
   "execution_count": null,
   "metadata": {},
   "outputs": [
    {
     "name": "stdout",
     "output_type": "stream",
     "text": [
      "{'David CORGIER': 3.0120481927710845, 'Simon Chauvel': 40.0, 'Florian SIMON': 0.0}\n"
     ]
    }
   ],
   "source": [
    "def percentage_validated_tasks(json):\n",
    "    percentage_validated_tasks = {}\n",
    "    validated = actor_valide_tasks(json)\n",
    "    total = actor_nbr_tasks(json)\n",
    "    \n",
    "    for actor in total:\n",
    "        percentage_validated_tasks[actor]= validated[actor]/total[actor]*100\n",
    "    return percentage_validated_tasks\n",
    "percentage_validated_tasks_dict = percentage_validated_tasks(contenu_json)\n",
    "print(percentage_validated_tasks_dict)"
   ]
  },
  {
   "cell_type": "markdown",
   "metadata": {},
   "source": [
    "Ressource extern utilisé par activité "
   ]
  },
  {
   "cell_type": "code",
   "execution_count": 4,
   "metadata": {},
   "outputs": [
    {
     "name": "stdout",
     "output_type": "stream",
     "text": [
      "{'pré projet': [11, 'ExcelWordExcelOurlookDocuments de candidatureDocuemnts du cleint GAM et des partenaires MOA', 'Tableur ExcelBeesbusy', 'Document produit par la MOE du projet à Echirolles', \"Notes internes MANASLURésultats d' études MANASLU\", 'Documents de conception de la MOEDocuments internes MANASLU et notes émises par MANASLU', 'VisioExcel pour les budgets activité', 'Documents des équipes de candidatsVisioTab Excel', \"VisioDocuments de conception MOE de l' opérationRessources et expérience interne\", 'Documents', 'internesrésultats', 'étude du PIA ANRUWordExcel'], 'Axe 1 : outil de communauté de connaissance': [0], \"Axe 2 : outile de monitoring centralisé à l'échelle du territoire\": [2, 'Rapport étude ERESEAnalyse des données de monitoringDonnées de Monitoring', \"VisioDocuments d' études et rapport ERESEDonnées de monitoringExpérience personnelle des projets\"], 'Axe 3 : Capitalisation REXperfo énergétique comme abse de connaissance': [2, 'Téléphone', 'Documents produits par la MOEAudits du patrimoine réalisé dans le cadre du PIAWordExcel'], \"Récolte d'un set de données\": [3, 'API Django', 'extension de scraping', 'SPacy'], \"Cartographie d'un set de données\": [3, 'API Django', 'application Angular', 'Neo4j'], 'Programmation': [37, 'Retour expérience', 'Données techniques sous-station', 'Tableaux de consommation', 'Retours expérience', 'PowerPoint', 'Retour expérience', 'Téléphone', 'Appareil photographique', 'Caméra thermographique Infrarouge', 'Word', 'Informations techniques sur opération', 'Appareil photographique', 'Caméra thermique', 'Référentiel ANRU', 'Retour expérience', 'Référentiel ANRU', 'Caméra thermographique', 'Tab Excel', 'Tableau Excel', 'Vulgarisation', 'Documents   techniques', 'PowerPoint', \"Plan d' action\", 'Planning', \"Rapports d' activité\", 'Expérience technicien', 'Caméra thermographique', \"Description de l' occupant propriétaire\", 'Communication et vulgarisation', 'Supports papier et poster', 'Planning', 'PowerPoint', \"Retours d' expériences\", 'Documentation technique', \"Retour d' expérience terrain\", 'Rapports de monitoring', 'Dossiers techniques PDS'], 'Conception': [13, 'Rapport de thermographie', 'Référentiel ANRU', 'PowerPoint', 'Référentiel ANRU', 'Plateforme AMPERe', 'Référentiel ANRU', \"Rapports d' analyse et de thermographie\", 'Référentiel ANRU', 'Plateforme AMPERe', 'Retoru expérience', 'PowerPoint', 'Référentiel ANRU', 'Plateforme AMPERe'], 'Liste de tâches': [0], 'tests scraping Notion': [4, 'CaTCaP app + api', 'objectifs', 'BeatCorp', 'ressources'], 'création carte': [6, 'CaTCaPapp', 'neo4j', 'ressources', 'CaTCaPapp', 'neo4j', 'ressources']}\n",
      "<class 'dict'>\n"
     ]
    }
   ],
   "source": [
    "def ressource_per_activity(json):\n",
    "    activity_res = {}\n",
    "    for k in range(0, 5):\n",
    "        for activity in json[k][0]['activities']:\n",
    "            \n",
    "            activity_res[activity['activity']] = [0]\n",
    "            for task in activity['tasks']:\n",
    "                for ressource in task['environmental_resources']:\n",
    "                   \n",
    "                    activity_res[activity['activity']][0] +=1\n",
    "                    activity_res[activity['activity']].append(ressource['description'])\n",
    "                \n",
    "    return activity_res\n",
    "activity_res_dict = ressource_per_activity(contenu_json)\n",
    "\n",
    "print(activity_res_dict)\n",
    "print(type(activity_res_dict))"
   ]
  },
  {
   "cell_type": "markdown",
   "metadata": {},
   "source": [
    "differente capacité personelle \n",
    "on s'aperçoit qu'il y a 99 compétence qui reviennent plus d'une fois il serait donc pas mal de voir à chaque fois cb de temps l'actor mais en place cette compétence \n",
    "pour obtenir le temps il faut voir le debut de la tache et la date de la tache suivante \n",
    "\n",
    "on peut aussi sélectionner une période et voir le nombre de capactité démontrer dans cette période par l'actor"
   ]
  },
  {
   "cell_type": "code",
   "execution_count": 13,
   "metadata": {},
   "outputs": [
    {
     "name": "stdout",
     "output_type": "stream",
     "text": [
      "278\n",
      "{'Gérer un planning': 1, 'Réajuster le planning en fonction des aléas et des priorités': 1, \"Réaliser une étude de marché, évaluer le potentiel d'un produit ou service\": 1, \"Mettre en oeuvre une stratégie, un plan d'actions\": 1, 'Contacter, évaluer les prestations et sélectionner les fournisseurs appartenant à chaque corps de métier (matériaux, travaux, approvisionnements, prestataires), éventuellement en lien avec le département des achats s’il existe.': 1, 'Attestation de Capacité Professionnelle -ACP-': 1, 'Valider les textes, le Bon à Tirer': 1, 'Régulation': 1, \"Techniques d'asservissement et de régulation\": 1, 'Techniques de vente en réunion': 11, 'Préparer et animer une réunion, un groupe de travail, un atelier': 8, 'Assister aux réunions de chantier.': 11, 'Mener un entretien, une interview, une audition': 1, \"Procéder à l'évaluation de l'audition et informer la personne sur les possibilités d'aides auditives\": 1, \"Techniques d'arasage\": 2, 'Utilisation de dérayeuse': 2, 'Proposer des produits additionnels': 1, \"Conditions d'utilisation des adjuvants\": 1, \"Réaliser ou contrôler les soins d'hygiène, de confort et apporter une aide au patient\": 1, \"Réaliser les soins d'hygiène et de confort des animaux\": 1, 'Réaliser des analyses critiques des résultats, évaluer la performance modélisée': 1, 'Valoriser et partager les bonnes pratiques': 1, \"Conception et analyse d'enquête\": 1, \"Pratique de l'enquête\": 1, 'Réaliser des enquêtes et des sondages en ligne': 1, \"Méthodes de sondage d'opinion\": 1, \"Utilisation d'outil de supervision\": 2, 'Logiciel de supervision': 2, \"Établir un rapport d'essai\": 1, \"Rédiger un rapport d'évaluation\": 1, 'Présenter un bilan': 5, \"Présenter le bilan annuel d'activité\": 1, 'Rédiger un rapport de synthèse': 2, 'Image de synthèse': 1, \"Établir le bilan d'intervention\": 5, 'Caractéristiques des tableaux': 2, 'Mettre à jour un tableau de suivi client': 1, \"Mener une campagne d'e-mailing\": 1, 'Matchmover': 1, 'Microsoft Visio': 16, 'Visioconférences': 15, 'Actualiser régulièrement ses connaissances': 1, 'Assurer la mise à jour de la maquette numérique sur les aspects concernés.': 2, 'Réaliser des menuiseries': 1, 'Concevoir des agencements ou des menuiseries': 1, 'Émettre un appel ou une relance téléphonique des clients ou des prospects': 1, 'Répéter un rôle': 1, 'Pédagogie Freinet': 2, 'Utilisation de plate-forme de stabilométrie': 3, 'Participer à des commissions techniques ou comités consultatifs': 1, 'Connaissance des bases des DTU (Document Technique Unifié)': 2, 'Implanter de nouveaux outils de gestion': 1, 'Concevoir, fabriquer un outil technique': 1, 'Système de messagerie': 1, 'Messagerie électronique ThunderBird': 1, \"Réaliser du soutien scolaire (réalisation/correction d'exercices, devoirs...)\": 1, 'Corriger des évaluations (exercices, travaux pratiques, examens)': 1, 'Techniques de formation': 1, 'Législation de la formation continue': 1, 'Gestion de configuration': 1, 'Installer le matériel et les équipements sur un lieu de tournage': 1, \"Délivrer des autorisations d'accès\": 1, \"Diriger des opérations dans des zones d'accès difficile\": 1, 'Construire et adapter son parcours professionnel': 1, 'Contrôler la réalisation de pages Web': 1, \"Analyser les résultats d'une expérimentation\": 2, \"Mener des études et expérimentations à des fins d'innovation\": 1, \"Réalisation d'épreuve de ligne\": 1, \"Réaliser la mise à jour d'un site web\": 1, \"Actualiser les informations mises à la disposition d'un public\": 1, 'Procéder au transfert en Salle de Surveillance Post-Interventionnelle -SSPI -': 1, 'Participer à une action ou mission de sauvegarde maritime': 1, 'Organiser des réunions et des visites de chantier': 2, 'Concevoir une plateforme de marque': 2, 'Utiliser les outils collaboratifs': 2, 'Plateformes de service': 2, 'Utilisation de consoles de visualisation et de régulation': 1, 'Ruby': 1, 'Outils de gestion de projet - PERT (Project Evaluation and Review Technique)': 2, 'Microsoft Project': 1, 'Notepad++': 2, 'Sybase': 1, \"Réaliser les prestations de bilan ou d'orientation professionnelle (investigation, évaluation, passation de tests, ...) et restituer les résultats\": 1, \"Assurer l'interface sur la partie fonctionnelle entre la MOE et la MOA\": 1, 'Soumettre le document corrigé au commanditaire pour approbation': 1, 'Élaborer des tableaux de bord': 1, 'Utiliser une interface graphique (tablette, smartphone, machine à commande numérique etc.)': 1, 'Chaîne graphique': 1, 'Projet BIM (Building Information Modeling)': 2, 'Building Information Modeling (BIM)': 2, 'Habilitation CIF (AMF) ou IOBSP appréciée, certification ORIAS obligatoire': 1, \"Superviser la préparation d'examens\": 1, \"Identifier des sources et lieux d'information\": 1, 'Recenser des sources documentaires': 1, \"Utilisation d'olfactomètre\": 1, 'Traitement analytique en ligne (OLAP)': 1, \"Mettre en place et superviser l'implémentation du BIM\": 2, 'Rédiger et élaborer des notices et fiches techniques': 1, 'Contrôler les travaux de traduction et de terminologie (qualité, délai, relecture, correction)': 1, 'Participer à un travail collaboratif': 2, 'Analysis Services': 2, 'Concevoir des modèles de détection des insights consommateurs': 1, 'Analyser les indicateurs de fonctionnement': 1, 'Définir des indicateurs de performance': 1, \"Financements publics et règles d'attribution\": 1, \"Modalités de fonctionnement d'une bourse de fret\": 1, 'Équipements de chauffage': 1, \"Surveiller le fonctionnement d'installations de chauffage\": 1, 'Réaliser une revue analytique': 1, 'Documents (catalogue, revue de presse, ...)': 2, 'Réaliser une revue de presse': 1, \"Réaliser les préréglages et la mise en service de l'installation de chauffage (circuits électriques, brûleurs, organes hydrauliques, systèmes de régulation, ...)\": 1, 'Surveiller ou réguler une installation thermique (four, étuveuse, ...)': 1, 'Analyse Préliminaire des Risques (APR)': 1, 'Tableau de Bord Prospectif (TBP) / Balanced Scorecard (BSC)': 1, \"Établir un rapport d'étude ou de recherche\": 1, \"Rédiger des rapports d'activité\": 1, \"Problématiser une démarche d'action publique\": 1, 'Maîtrise des méthodes de résolution de problèmes': 1, \"Établir des contacts avec la population locale de la zone d'affectation et promouvoir les initiatives de réunions de concertation ou de consultation, ...\": 1, \"Organiser le partage et la capitalisation de l'information\": 4, 'Réaliser une étude patrimoniale': 1, 'Rédiger une note de lecture': 2, 'Technologies VoIP (Voice Over Internet Protocole)': 1, 'Système de Management de la Qualité (SMQ)': 1, 'Contrôler des données qualité': 1, 'Assister aux réunions internes, participer à des événements professionnels.': 2, 'Rédiger un compte rendu de réunion': 1, \"Réaliser la maquette numérique d'un projet BIM\": 1, 'Participer à la conception et réalisation de la modélisation des informations du bâtiment (BIM).': 1, \"Licence JAR 66 C - visite d'entretien en base principale\": 2, 'Manoeuvrer sur des lignes particulières (chantier, zone de stationnement, site de maintenance, ...)': 1, \"Rédiger une fiche d'intervention\": 2, 'Rédiger une fiche de poste': 1, 'Attestation Ordonnancement, Pilotage et Coordination de chantier (OPC)': 1, 'Principe de fusion-acquisition (fusac / M&A)': 1, 'Assister des clients pour une fusion-acquisition': 1, \"Utilisation de caméra d'inspection autotractée\": 1, 'Proplan': 1, 'Adobe Première Pro': 1, 'Rédiger des rapports de sécurité': 1, 'Établir un rapport de sécurité publique': 1, 'Utilisation de métiers Leavers': 1, 'Fonctionnement de métiers Leavers': 1, \"Ajuster des paramètres d'exploitation\": 1, \"Réaliser une étude de liberté d'exploitation\": 1, \"Participer à la réalisation d'une étude\": 1, 'Recommandations AMF': 1, 'ASP.NET': 2, 'Grafcet': 1, 'Contrôle de résistance thermique': 1, 'Cycles thermiques': 1, 'Professionnel SPSS': 1, 'Pratiquer des examens endoscopiques': 1, 'Ada': 1, 'SoapUI': 1, 'Rédiger une note de synthèse': 2, \"Méthodes d'enquête par visite mystère\": 1, 'Microsoft PowerPoint': 2, 'Utilisation de monteuse de diapositives': 2, \"Réaliser la reproduction de maquettes à partir d'un moniteur vidéo ou d'un vidéoprojecteur\": 1, \"Animation d'instances agiles (mêlée, démonstration, rétrospective, …)\": 1, \"Utilisation d'appareils de contrôle (vibrographe, contrôleur électronique, ...)\": 1, \"Utilisation d'appareils de contrôle et de mesure (analyseur de gaz, pyromètre optique, voltmètre, ...)\": 1, 'Réaliser une visite de chantier': 1, 'Effectuer les rapports de chantier auprès du directeur de travaux et/ou du client.': 1, \"Fiches d'intervention\": 1, 'Établir un Dossier de Consultation des Entreprises (DCE)': 1, 'Coacher des particuliers': 1, 'Échanger régulièrement avec sa clientèle.': 1, 'Standard téléphonique IPBX': 1, 'Marketing téléphonique': 1, 'Lecture de dessins techniques': 1, 'Analyser un document de production': 1, 'HTML & CSS': 1, 'Javascript/Typescript': 1, 'Python/Django': 1, 'API rest': 1, 'développement Web': 1}\n",
      "179\n"
     ]
    }
   ],
   "source": [
    "def capacity(json):\n",
    "    capacity = {}\n",
    "    n=0\n",
    "    for k in range(0, 5):\n",
    "        for activity in json[k][0]['activities']:\n",
    "            for task in activity['tasks']:\n",
    "                for ressources in task['personnal_resources']:\n",
    "                    n=n+1\n",
    "                    if ressources['description'] not in capacity:\n",
    "                        capacity[ressources['description']] = 1\n",
    "                    else:\n",
    "                        capacity[ressources['description']] += 1\n",
    "    print(n)\n",
    "    return capacity\n",
    "capacity_dict = capacity(contenu_json)\n",
    "print(capacity_dict)\n",
    "print(len(capacity_dict))"
   ]
  },
  {
   "cell_type": "markdown",
   "metadata": {},
   "source": [
    "pareille avec les ressources extérieure \n",
    "on voit qu'il y a 81 ressources extérieure utilisé dans les action dans ces 81 il y en a 58 différentes donc il y a repétititon \n",
    "peut voir lesquel sont les plus utilisé et les competence que doit avoir l'utilisateur pour les utiliser \n",
    "\n",
    "regarder aussi sur les date le nombre de ressource ext utilisé sur une période "
   ]
  },
  {
   "cell_type": "code",
   "execution_count": 15,
   "metadata": {},
   "outputs": [
    {
     "name": "stdout",
     "output_type": "stream",
     "text": [
      "81\n",
      "{'ExcelWordExcelOurlookDocuments de candidatureDocuemnts du cleint GAM et des partenaires MOA': 1, 'Tableur ExcelBeesbusy': 1, 'Document produit par la MOE du projet à Echirolles': 1, \"Notes internes MANASLURésultats d' études MANASLU\": 1, 'Documents de conception de la MOEDocuments internes MANASLU et notes émises par MANASLU': 1, 'VisioExcel pour les budgets activité': 1, 'Documents des équipes de candidatsVisioTab Excel': 1, \"VisioDocuments de conception MOE de l' opérationRessources et expérience interne\": 1, 'Documents': 1, 'internesrésultats': 1, 'étude du PIA ANRUWordExcel': 1, 'Rapport étude ERESEAnalyse des données de monitoringDonnées de Monitoring': 1, \"VisioDocuments d' études et rapport ERESEDonnées de monitoringExpérience personnelle des projets\": 1, 'Téléphone': 2, 'Documents produits par la MOEAudits du patrimoine réalisé dans le cadre du PIAWordExcel': 1, 'API Django': 2, 'extension de scraping': 1, 'SPacy': 1, 'application Angular': 1, 'Neo4j': 1, 'Retour expérience': 3, 'Données techniques sous-station': 1, 'Tableaux de consommation': 1, 'Retours expérience': 1, 'PowerPoint': 5, 'Appareil photographique': 2, 'Caméra thermographique Infrarouge': 1, 'Word': 1, 'Informations techniques sur opération': 1, 'Caméra thermique': 1, 'Référentiel ANRU': 7, 'Caméra thermographique': 2, 'Tab Excel': 1, 'Tableau Excel': 1, 'Vulgarisation': 1, 'Documents   techniques': 1, \"Plan d' action\": 1, 'Planning': 2, \"Rapports d' activité\": 1, 'Expérience technicien': 1, \"Description de l' occupant propriétaire\": 1, 'Communication et vulgarisation': 1, 'Supports papier et poster': 1, \"Retours d' expériences\": 1, 'Documentation technique': 1, \"Retour d' expérience terrain\": 1, 'Rapports de monitoring': 1, 'Dossiers techniques PDS': 1, 'Rapport de thermographie': 1, 'Plateforme AMPERe': 3, \"Rapports d' analyse et de thermographie\": 1, 'Retoru expérience': 1, 'CaTCaP app + api': 1, 'objectifs': 1, 'BeatCorp': 1, 'ressources': 3, 'CaTCaPapp': 2, 'neo4j': 2}\n",
      "58\n"
     ]
    }
   ],
   "source": [
    "def ressource_ext(json):\n",
    "    ressource_ext = {}\n",
    "    n=0\n",
    "    for k in range(0, 5):\n",
    "        for activity in json[k][0]['activities']:\n",
    "            for task in activity['tasks']:\n",
    "                for ressources in task['environmental_resources']:\n",
    "                    n=n+1\n",
    "                    if ressources['description'] not in ressource_ext:\n",
    "                        ressource_ext[ressources['description']] = 1\n",
    "                    else:\n",
    "                        ressource_ext[ressources['description']] += 1\n",
    "    print(n)\n",
    "    return ressource_ext\n",
    "ressource_ext_dict = ressource_ext(contenu_json)\n",
    "print(ressource_ext_dict)\n",
    "print(len(ressource_ext_dict))"
   ]
  },
  {
   "cell_type": "markdown",
   "metadata": {},
   "source": [
    "Evolution du style de competence \"s\" \"k\" \"a\" sur une période "
   ]
  },
  {
   "cell_type": "markdown",
   "metadata": {},
   "source": [
    "faire un truc avec les performance à 100% ou 75%\n",
    "voir si les compétence utilisé sont les même et le temps d'écart "
   ]
  }
 ],
 "metadata": {
  "kernelspec": {
   "display_name": "Python 3",
   "language": "python",
   "name": "python3"
  },
  "language_info": {
   "codemirror_mode": {
    "name": "ipython",
    "version": 3
   },
   "file_extension": ".py",
   "mimetype": "text/x-python",
   "name": "python",
   "nbconvert_exporter": "python",
   "pygments_lexer": "ipython3",
   "version": "3.12.3"
  }
 },
 "nbformat": 4,
 "nbformat_minor": 2
}
