{
 "cells": [
  {
   "cell_type": "code",
   "execution_count": 3,
   "metadata": {},
   "outputs": [
    {
     "data": {
      "text/html": [
       "<div>\n",
       "<style scoped>\n",
       "    .dataframe tbody tr th:only-of-type {\n",
       "        vertical-align: middle;\n",
       "    }\n",
       "\n",
       "    .dataframe tbody tr th {\n",
       "        vertical-align: top;\n",
       "    }\n",
       "\n",
       "    .dataframe thead th {\n",
       "        text-align: right;\n",
       "    }\n",
       "</style>\n",
       "<table border=\"1\" class=\"dataframe\">\n",
       "  <thead>\n",
       "    <tr style=\"text-align: right;\">\n",
       "      <th></th>\n",
       "      <th>uid</th>\n",
       "      <th>mapTitle</th>\n",
       "      <th>initial_corpus</th>\n",
       "      <th>processed_corpus</th>\n",
       "      <th>user_id</th>\n",
       "    </tr>\n",
       "  </thead>\n",
       "  <tbody>\n",
       "    <tr>\n",
       "      <th>0</th>\n",
       "      <td>f7ecc724-285a-4a7c-b87e-b32887a19dc7</td>\n",
       "      <td>ARLEQUIN PIA ANRU</td>\n",
       "      <td>[{\"corpus\": \"ARLEQUIN PIA ANRU\", \"activities\":...</td>\n",
       "      <td>[{\"corpus\": \"ARLEQUIN PIA ANRU\", \"activities\":...</td>\n",
       "      <td>2</td>\n",
       "    </tr>\n",
       "    <tr>\n",
       "      <th>1</th>\n",
       "      <td>4c7f68e2-6a44-477c-babb-8b1de2745245</td>\n",
       "      <td>tests BeatCorp</td>\n",
       "      <td>[{\"corpus\": \"tests BeatCorp\", \"activities\": [{...</td>\n",
       "      <td>[{\"corpus\": \"tests BeatCorp\", \"activities\": [{...</td>\n",
       "      <td>1</td>\n",
       "    </tr>\n",
       "    <tr>\n",
       "      <th>2</th>\n",
       "      <td>266d42b3-d973-4a89-b600-67cf06e846e8</td>\n",
       "      <td>Les Tilleuls - 80 Arlequin</td>\n",
       "      <td>[{\"corpus\": \"Les Tilleuls - 80 Arlequin\", \"act...</td>\n",
       "      <td>[{\"corpus\": \"Les Tilleuls - 80 Arlequin\", \"act...</td>\n",
       "      <td>2</td>\n",
       "    </tr>\n",
       "    <tr>\n",
       "      <th>3</th>\n",
       "      <td>ffbe63e9-65d8-401b-bd5b-df85a3e1e37f</td>\n",
       "      <td>Agrithermic</td>\n",
       "      <td>[{\"corpus\": \"Agrithermic\", \"activities\": [{\"ta...</td>\n",
       "      <td>[{\"corpus\": \"Agrithermic\", \"activities\": [{\"in...</td>\n",
       "      <td>1</td>\n",
       "    </tr>\n",
       "    <tr>\n",
       "      <th>4</th>\n",
       "      <td>6848117f-1351-4839-a8b3-e451a58b8d12</td>\n",
       "      <td>timeline</td>\n",
       "      <td>[{\"corpus\": \"timeline\", \"activities\": [{\"tasks...</td>\n",
       "      <td>[{\"corpus\": \"timeline\", \"activities\": [{\"index...</td>\n",
       "      <td>1</td>\n",
       "    </tr>\n",
       "    <tr>\n",
       "      <th>5</th>\n",
       "      <td>ab78c764-b044-49c0-aa93-37b05b766c9f</td>\n",
       "      <td>tests scraping Trello</td>\n",
       "      <td>[{\"corpus\": \"tests scraping Trello\", \"activiti...</td>\n",
       "      <td>[{\"corpus\": \"tests scraping Trello\", \"activiti...</td>\n",
       "      <td>1</td>\n",
       "    </tr>\n",
       "  </tbody>\n",
       "</table>\n",
       "</div>"
      ],
      "text/plain": [
       "                                    uid                    mapTitle  \\\n",
       "0  f7ecc724-285a-4a7c-b87e-b32887a19dc7           ARLEQUIN PIA ANRU   \n",
       "1  4c7f68e2-6a44-477c-babb-8b1de2745245              tests BeatCorp   \n",
       "2  266d42b3-d973-4a89-b600-67cf06e846e8  Les Tilleuls - 80 Arlequin   \n",
       "3  ffbe63e9-65d8-401b-bd5b-df85a3e1e37f                 Agrithermic   \n",
       "4  6848117f-1351-4839-a8b3-e451a58b8d12                    timeline   \n",
       "5  ab78c764-b044-49c0-aa93-37b05b766c9f       tests scraping Trello   \n",
       "\n",
       "                                      initial_corpus  \\\n",
       "0  [{\"corpus\": \"ARLEQUIN PIA ANRU\", \"activities\":...   \n",
       "1  [{\"corpus\": \"tests BeatCorp\", \"activities\": [{...   \n",
       "2  [{\"corpus\": \"Les Tilleuls - 80 Arlequin\", \"act...   \n",
       "3  [{\"corpus\": \"Agrithermic\", \"activities\": [{\"ta...   \n",
       "4  [{\"corpus\": \"timeline\", \"activities\": [{\"tasks...   \n",
       "5  [{\"corpus\": \"tests scraping Trello\", \"activiti...   \n",
       "\n",
       "                                    processed_corpus  user_id  \n",
       "0  [{\"corpus\": \"ARLEQUIN PIA ANRU\", \"activities\":...        2  \n",
       "1  [{\"corpus\": \"tests BeatCorp\", \"activities\": [{...        1  \n",
       "2  [{\"corpus\": \"Les Tilleuls - 80 Arlequin\", \"act...        2  \n",
       "3  [{\"corpus\": \"Agrithermic\", \"activities\": [{\"in...        1  \n",
       "4  [{\"corpus\": \"timeline\", \"activities\": [{\"index...        1  \n",
       "5  [{\"corpus\": \"tests scraping Trello\", \"activiti...        1  "
      ]
     },
     "execution_count": 3,
     "metadata": {},
     "output_type": "execute_result"
    }
   ],
   "source": [
    "import pandas as pd\n",
    "\n",
    "\n",
    "df = pd.read_csv('proj831_data.csv')\n",
    "\n",
    "df\n"
   ]
  },
  {
   "cell_type": "code",
   "execution_count": 34,
   "metadata": {},
   "outputs": [
    {
     "data": {
      "text/plain": [
       "list"
      ]
     },
     "execution_count": 34,
     "metadata": {},
     "output_type": "execute_result"
    }
   ],
   "source": [
    "import json\n",
    "#function that transform str to json\n",
    "def str_to_json(s):\n",
    "    return json.loads(s)\n",
    "\n",
    "\n"
   ]
  },
  {
   "cell_type": "code",
   "execution_count": 38,
   "metadata": {},
   "outputs": [],
   "source": [
    "import json\n",
    "\n",
    "json_data=[str_to_json(x) for x in df['processed_corpus']]\n",
    "\n",
    "#save json data as a json file\n",
    "with open('proj831_data.json', 'w') as f:\n",
    "    json.dump(json_data, f)\n"
   ]
  },
  {
   "cell_type": "code",
   "execution_count": null,
   "metadata": {},
   "outputs": [],
   "source": []
  }
 ],
 "metadata": {
  "kernelspec": {
   "display_name": ".venv",
   "language": "python",
   "name": "python3"
  },
  "language_info": {
   "codemirror_mode": {
    "name": "ipython",
    "version": 3
   },
   "file_extension": ".py",
   "mimetype": "text/x-python",
   "name": "python",
   "nbconvert_exporter": "python",
   "pygments_lexer": "ipython3",
   "version": "3.12.2"
  }
 },
 "nbformat": 4,
 "nbformat_minor": 2
}
